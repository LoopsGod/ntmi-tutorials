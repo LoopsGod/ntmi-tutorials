{
  "nbformat": 4,
  "nbformat_minor": 0,
  "metadata": {
    "colab": {
      "name": "Rational decision makers",
      "provenance": [],
      "collapsed_sections": [],
      "authorship_tag": "ABX9TyO5isn4WhQqMEut+tYbbcE4",
      "include_colab_link": true
    },
    "kernelspec": {
      "name": "python3",
      "display_name": "Python 3"
    },
    "language_info": {
      "name": "python"
    }
  },
  "cells": [
    {
      "cell_type": "markdown",
      "metadata": {
        "id": "view-in-github",
        "colab_type": "text"
      },
      "source": [
        "<a href=\"https://colab.research.google.com/github/probabll/ntmi-tutorials/blob/main/Rational_decision_makers.ipynb\" target=\"_parent\"><img src=\"https://colab.research.google.com/assets/colab-badge.svg\" alt=\"Open In Colab\"/></a>"
      ]
    },
    {
      "cell_type": "markdown",
      "source": [
        "# Introduction to Decision Theory\n",
        "\n",
        "**ILOs**\n",
        "\n",
        "After this tutorial the student \n",
        "\n",
        "* understands how to make decisions under uncertainty \n",
        "* can implement a search procedure to maximise expected utility (or minimise expected loss) for common probability distributions"
      ],
      "metadata": {
        "id": "6qU3xZtTeLb9"
      }
    },
    {
      "cell_type": "markdown",
      "source": [
        "In statistical decision theory a **rational decision maker** is one who acts as to maximise expected **utility** (or, equivalently, minimise expected **loss**).\n",
        "\n",
        "Suppose a decision maker has access to some information $X=x$ and lacks access to some other information captured by a random variable $Y$. The **uncertainty** of the decision maker is captured by a conditional probability distribution $Y|X=x$. The interests of the decision maker are captured by a utility function $u(y, h)$ or, equivalently, by a loss function $\\ell(y, h)$. \n",
        "\n",
        "The utility function assesses the benefit in choosing a candidate $h \\in \\mathcal Y$ when the true response is $y \\in \\mathcal Y$. Conversely, the loss function assesses the harm in choosing a candidate $h \\in \\mathcal Y$ when the true response is $y \\in \\mathcal Y$. In reality we *do not know* the true response, thus we let our own model fill in the response for us in expectation.\n",
        "\n",
        "This is the optimisation problem that rational decision makers solve:\n",
        "\\begin{align}\n",
        "y^\\star &= \\arg\\max_{h \\in \\mathcal Y} ~ \\mathbb E[u(Y, h)|X=x] \n",
        "\\end{align}\n",
        "if $Y$ is continuous, then this is\n",
        "\\begin{align}\n",
        "y^\\star &= \\arg\\max_{h \\in \\mathcal Y} ~ \\int p(y|x) u(y, h) \\mathrm{d}y\n",
        "\\end{align}\n",
        "where $p(y|x)$ is the probability density of $y$ given $x$; if $Y$ is discrete we have \n",
        "\\begin{align}\n",
        "y^\\star &= \\arg\\max_{h \\in \\mathcal Y} ~ \\sum_{y \\in \\mathcal Y} p(y|x) u(y, h) ~.\n",
        "\\end{align}\n",
        "Or, in English:\n",
        "* we search in the space of every possible values of $h$, which is every possible value of the random variable $Y$, for the one value whose expected utility is maximum\n",
        "* expected utility is the average utility against every possible value $y \\in \\mathcal Y$ of the random variable weighed by their probability density (or mass).\n",
        "\n",
        "Equivalently, but expressed in terms of a loss function, we have\n",
        "\\begin{align}\n",
        "y^\\star &= \\arg\\min_{h \\in \\mathcal Y} ~ \\mathbb E[\\ell(Y, h)|X=x]  ~.\n",
        "\\end{align}\n",
        "Or, in English:\n",
        "* we search in the space of every possible values of $h$, which is every possible value of the random variable $Y$, for the one value whose expected loss is minimum\n",
        "* expected loss is the average loss against every possible value $y \\in \\mathcal Y$ of the random variable weighed by their probability density (or mass).\n",
        "\n",
        "Solving the expected value can be difficult, especially for continuous random variables, since solving $\\mathbb E[u(Y, h)|X=x]$ for any given $h$ requires solving an integral. For discrete variables it is generally easier, provided that $\\mathcal Y$ is small. In general, we cannot count expected values being easy to solve, but we can *always* estimate them via Monte Carlo (MC) if we have access to a procedure to draw samples from the model (which is available for most reasonable models). The MC estimate of an expected value is:\n",
        "\\begin{align}\n",
        "\\mathbb E[u(Y, h)|X=x]  &\\overset{\\text{MC}}{\\approx} \\frac{1}{S}\\sum_{s=1}^S u(y_s, h) \\quad \\text{ with }y_s \\sim P_{Y|X=x}\n",
        "\\end{align}\n",
        "the sample mean utility where we use $S$ samples from the conditional distribution (instead of the entire conditional distribution).\n",
        "\n",
        "Once we can compute expected utility for a single $h$, or at least estimate it using MC, we have to solve the *search* problem (that is, we need to find out which $h$ in $\\mathcal Y$ is the one with highest expected utility / or lowest expected loss). The search problem is in general intractable as well, but, whenever $\\mathcal Y$ is low-dimensional, we can at least approximate it using a grid $\\mathcal H \\subset \\mathcal Y$ of candidates:\n",
        "\\begin{align}\n",
        "y^\\text{grid} &= \\arg\\max_{h \\in \\mathcal H} ~ \\mathbb E[u(Y, h)|X=x] \\\\\n",
        " &\\overset{\\text{MC}}{\\approx} \\arg\\max_{h \\in \\text{grid}} ~ \\frac{1}{S}\\sum_{s=1}^S u(y_s, h) \\quad \\text{ with }y_s \\sim P_{Y|X=x}\n",
        "\\end{align}\n",
        "\n",
        "Next we demonstrate this with a few examples."
      ],
      "metadata": {
        "id": "7fTXZlphTFIG"
      }
    },
    {
      "cell_type": "code",
      "source": [
        "import numpy as np\n",
        "import matplotlib.pyplot as plt"
      ],
      "metadata": {
        "id": "4uYdcE4MWnq6"
      },
      "execution_count": null,
      "outputs": []
    },
    {
      "cell_type": "markdown",
      "source": [
        "# Categorical\n",
        "\n",
        "For the Categorical distribution we can exactly compute the expected value by enumeration of the terms in $\\mathcal Y$, we can also exactly search by having a grid that is exactly identical to $\\mathcal Y$. \n",
        "\n",
        "Here we will use a utility function that is the \"exact match\" function, it assigns utility of 1 when the candidate $h$ is equal to the target $y$, and 0 otherwise.\n",
        "\n",
        "This decision rule happens to return the mode of the Categorical distribution."
      ],
      "metadata": {
        "id": "x_r8PfC-WoMP"
      }
    },
    {
      "cell_type": "code",
      "source": [
        "support = np.arange(10)  # mathcal Y\n",
        "probs = np.random.dirichlet(np.ones(10)) # a valid Categorical parameter\n",
        "assert np.all(probs > 0), \"Should be all positive\"\n",
        "assert np.isclose(np.sum(probs), 1., 1e-3), \"Should sum to 1\" \n",
        "grid = support # with 10 classes we can check each and every candidate\n",
        "\n",
        "def utility(y, h):\n",
        "    return np.array((y == h), dtype=float)  # this utility is 1 if the guess is equal to the true or zero otherwise\n",
        "\n",
        "def exact_expected_utility(h, support, probs):\n",
        "    return np.sum([utility(y, h) * probs[y] for y in support])\n",
        "\n",
        "fig, axs = plt.subplots(2, 1, sharex=True, figsize=(6, 10))\n",
        "\n",
        "_ = axs[0].plot(support, probs, 'x', label='probs')\n",
        "_ = axs[0].axvline(np.argmax(probs), c='black', label='mode')\n",
        "_ = axs[0].set_ylabel(\"probability\")\n",
        "_ = axs[0].set_xlabel(\"targets\")\n",
        "\n",
        "mu_h = [exact_expected_utility(h, support, probs) for h in grid]\n",
        "best = np.argmax(mu_h)\n",
        "_ = axs[1].plot(grid, mu_h, 'o', label='exact match')\n",
        "_ = axs[1].axvline(grid[best], c='blue', linestyle='dashed', label='optimum')\n",
        "_ = axs[1].set_ylabel(\"Expected utility\")\n",
        "_ = axs[1].set_xlabel(f\"candidates: best={grid[best]} expected_utility={mu_h[best]:.2f}\")\n",
        "_ = fig.legend()"
      ],
      "metadata": {
        "id": "gbRwGlB-Wpcq"
      },
      "execution_count": null,
      "outputs": []
    },
    {
      "cell_type": "markdown",
      "source": [
        "# Losses and utilities for numerical data"
      ],
      "metadata": {
        "id": "XqW7TGOC4GCe"
      }
    },
    {
      "cell_type": "code",
      "source": [
        "def abs_loss(y, h):\n",
        "    return np.abs(y-h)  # this loss is the absolute value abs_loss\n",
        "\n",
        "def squared_loss(y, h):\n",
        "    return (y-h)**2\n",
        "\n",
        "def rbf_utility(y, h):\n",
        "    return np.exp(-(y-h)**2)"
      ],
      "metadata": {
        "id": "Q3C9OVk34HVc"
      },
      "execution_count": null,
      "outputs": []
    },
    {
      "cell_type": "code",
      "source": [
        "def mc_expected_fn_h(h, samples, fn):\n",
        "    \"\"\"Return E[fn(h)] approximated using a number of samples\"\"\"\n",
        "    return np.mean([fn(y, h) for y in samples])"
      ],
      "metadata": {
        "id": "p5wwUg1W4jaq"
      },
      "execution_count": null,
      "outputs": []
    },
    {
      "cell_type": "markdown",
      "source": [
        "#Poisson\n",
        "\n",
        "For the Poisson, we cannot always compute the expected value in closed form because the support of the Poisson is infinite. In reality, for certain choices of utility/loss functions, it is possible to solve the infinite sum exactly, but we will not work with that assumption. Rather, we will use MC estimation.\n",
        "\n",
        "Here, for illustration, we try two different loss functions, the absolute value $|y-h|$ and the squared difference $(y-h)^2$. These losses are common for numerical ordinal quantities, that's why we use it here. \n",
        "\n",
        "Oftentimes these two losses lead to the same optimum (but not always). Even when they do lead to the same optimum decision (a certain value of $h$), note that the expected loss differs tremendously."
      ],
      "metadata": {
        "id": "kwFCDWXBYZAY"
      }
    },
    {
      "cell_type": "code",
      "source": [
        "rate = np.random.gamma(20, 2) # a valid Poisson parameter\n",
        "assert rate > 0, \"Should be  positive\"\n",
        "\n",
        "samples = np.random.poisson(rate, size=1000)\n",
        "grid = np.linspace(0, 100, 100)\n",
        "\n",
        "fig, axs = plt.subplots(4, 1, sharex=True, figsize=(6, 16))\n",
        "\n",
        "# it's good to see what distribution we have\n",
        "_ = axs[0].hist(samples, bins='auto')\n",
        "_ = axs[0].axvline(np.mean(samples), c='black', label='mean')\n",
        "_ = axs[0].set_xlabel(f\"samples from Poisson({rate:.2f})\")\n",
        "\n",
        "# search with abs loss\n",
        "mu_h = [mc_expected_fn_h(h, samples, fn=abs_loss) for h in grid]\n",
        "best = np.argmin(mu_h) # minimise expected loss\n",
        "_ = axs[1].plot(grid, mu_h, 'o')\n",
        "_ = axs[1].axvline(grid[best], c='blue', linestyle='dashed')\n",
        "_ = axs[1].set_ylabel(\"MC expected abs loss for Poisson\")\n",
        "_ = axs[1].set_xlabel(f\"Decision (best={grid[best]:.2f} optimum_expected_loss={mu_h[best]:.2f})\")\n",
        "\n",
        "# search with squared loss\n",
        "mu_h = [mc_expected_fn_h(h, samples, fn=squared_loss) for h in grid]\n",
        "best = np.argmin(mu_h) # minimise expected loss\n",
        "_ = axs[2].plot(grid, mu_h, 'o')\n",
        "_ = axs[2].axvline(grid[best], c='blue', linestyle='dashed')\n",
        "_ = axs[2].set_ylabel(\"MC expected squared loss for Poisson\")\n",
        "_ = axs[2].set_xlabel(f\"Decision (best={grid[best]:.2f} optimum_expected_loss={mu_h[best]:.2f})\")\n",
        "\n",
        "# search with squared loss\n",
        "mu_h = [mc_expected_fn_h(h, samples, fn=rbf_utility) for h in grid]\n",
        "best = np.argmax(mu_h) # maximise expected utility\n",
        "_ = axs[3].plot(grid, mu_h, 'o')\n",
        "_ = axs[3].axvline(grid[best], c='blue', linestyle='dashed')\n",
        "_ = axs[3].set_ylabel(\"MC expected rbf utility for Poisson\")\n",
        "_ = axs[3].set_xlabel(f\"Decision (best={grid[best]:.2f} optimum_expected_loss={mu_h[best]:.2f})\")\n",
        "\n",
        "fig.tight_layout(h_pad=2, w_pad=2)\n",
        "_ = fig.legend()"
      ],
      "metadata": {
        "id": "z0x8WLzbYZgA"
      },
      "execution_count": null,
      "outputs": []
    },
    {
      "cell_type": "markdown",
      "source": [
        "# Gamma"
      ],
      "metadata": {
        "id": "aqNedt37cVBe"
      }
    },
    {
      "cell_type": "code",
      "source": [
        "shape = 20.\n",
        "rate = 0.5\n",
        "scale = 1/rate\n",
        "\n",
        "# numpy implements Gamma(shape, scale) instead of Gamma(shape, rate)\n",
        "# but this is okay, because scale is simply 1 / rate\n",
        "samples = np.random.gamma(shape, scale, size=1000)\n",
        "grid = np.linspace(0, 100, 100)\n",
        "\n",
        "fig, axs = plt.subplots(4, 1, sharex=True, figsize=(6, 16))\n",
        "\n",
        "# it's good to see what distribution we have\n",
        "_ = axs[0].hist(samples, bins='auto')\n",
        "_ = axs[0].axvline(np.mean(samples), c='black', label='mean')\n",
        "_ = axs[0].set_xlabel(f\"samples from Gamma({shape:.2f}, {scale:.2f})\")\n",
        "\n",
        "\n",
        "# search with abs loss\n",
        "mu_h = [mc_expected_fn_h(h, samples, fn=abs_loss) for h in grid]\n",
        "best = np.argmin(mu_h)\n",
        "_ = axs[1].plot(grid, mu_h, 'o')\n",
        "_ = axs[1].axvline(grid[best], c='blue', linestyle='dashed')\n",
        "_ = axs[1].set_ylabel(\"MC expected abs loss for Gamma\")\n",
        "_ = axs[1].set_xlabel(f\"Decision (best={grid[best]:.2f} optimum_expected_loss={mu_h[best]:.2f})\")\n",
        "\n",
        "# search with squared loss\n",
        "mu_h = [mc_expected_fn_h(h, samples, fn=squared_loss) for h in grid]\n",
        "best = np.argmin(mu_h)\n",
        "_ = axs[2].plot(grid, mu_h, 'o')\n",
        "_ = axs[2].axvline(grid[best], c='blue', linestyle='dashed')\n",
        "_ = axs[2].set_ylabel(\"MC expected squared loss for Gamma\")\n",
        "_ = axs[2].set_xlabel(f\"Decision (best={grid[best]:.2f} optimum_expected_loss={mu_h[best]:.2f})\")\n",
        "\n",
        "# search with squared loss\n",
        "mu_h = [mc_expected_fn_h(h, samples, fn=rbf_utility) for h in grid]\n",
        "best = np.argmax(mu_h)\n",
        "_ = axs[3].plot(grid, mu_h, 'o')\n",
        "_ = axs[3].axvline(grid[best], c='blue', linestyle='dashed')\n",
        "_ = axs[3].set_ylabel(\"MC expected rbf utility for Gamma\")\n",
        "_ = axs[3].set_xlabel(f\"Decision (best={grid[best]:.2f} optimum_expected_loss={mu_h[best]:.2f})\")\n",
        "\n",
        "fig.tight_layout(h_pad=2, w_pad=2)\n",
        "_ = fig.legend()"
      ],
      "metadata": {
        "id": "gCwU8pePcV2Y"
      },
      "execution_count": null,
      "outputs": []
    },
    {
      "cell_type": "markdown",
      "source": [
        "# Other complex distributions\n",
        "\n",
        "\n",
        "We may encounter distributions that are not so simple as Poisson, Gamma, Exponential, Normal. For example, sometimes distributions are mixtures of those things. Here we demonstrate one such case with mixture of Gaussians:"
      ],
      "metadata": {
        "id": "vY2m4yrc2mTO"
      }
    },
    {
      "cell_type": "code",
      "source": [
        "def sample_mog(mixing_coefficients, locs, scales, size=100):\n",
        "    assert len(mixing_coefficients) == len(locs) == len(scales)\n",
        "    ys = [np.random.normal(loc, scale, size=size) for loc, scale in zip(locs, scales)]\n",
        "    ks = np.random.choice(len(mixing_coefficients), p=mixing_coefficients, replace=True, size=size)\n",
        "    return [ys[ks[i]][i] for i in range(size)]"
      ],
      "metadata": {
        "id": "48lpY_Ul6Ltg"
      },
      "execution_count": null,
      "outputs": []
    },
    {
      "cell_type": "code",
      "source": [
        "# demonstration\n",
        "_ = plt.hist(sample_mog([0.5, 0.2, 0.3], [-10, 0, 8], [1, 2, 1], size=10000), bins='auto')"
      ],
      "metadata": {
        "id": "V5sCnm3P6MVb"
      },
      "execution_count": null,
      "outputs": []
    },
    {
      "cell_type": "markdown",
      "source": [
        "Decision rules are powerful precisely because they can deal with cases like this. As we will show, depending on the loss/utility we decide differently. See below."
      ],
      "metadata": {
        "id": "NxUdoid56sC8"
      }
    },
    {
      "cell_type": "code",
      "source": [
        "locs = [-10, 2]\n",
        "scales = [1, 2]\n",
        "w = [0.3, 0.7]\n",
        "\n",
        "samples = sample_mog(w, locs, scales, size=1000)\n",
        "grid = np.linspace(-15, 15, 200)\n",
        "\n",
        "fig, axs = plt.subplots(4, 1, sharex=True, figsize=(6, 16))\n",
        "\n",
        "# it's good to see what distribution we have\n",
        "_ = axs[0].hist(samples, bins='auto')\n",
        "_ = axs[0].axvline(np.mean(samples), c='black', label='mean')\n",
        "_ = axs[0].set_xlabel(f\"samples from mixture of 2 Gaussians (MoG)\")\n",
        "\n",
        "\n",
        "# search with abs loss\n",
        "mu_h = [mc_expected_fn_h(h, samples, fn=abs_loss) for h in grid]\n",
        "best = np.argmin(mu_h)\n",
        "_ = axs[1].plot(grid, mu_h, 'o')\n",
        "_ = axs[1].axvline(grid[best], c='blue', linestyle='dashed')\n",
        "_ = axs[1].set_ylabel(\"MC expected abs loss for MoG\")\n",
        "_ = axs[1].set_xlabel(f\"Decision (best={grid[best]:.2f} optimum_expected_loss={mu_h[best]:.2f})\")\n",
        "\n",
        "# search with squared loss\n",
        "mu_h = [mc_expected_fn_h(h, samples, fn=squared_loss) for h in grid]\n",
        "best = np.argmin(mu_h)\n",
        "_ = axs[2].plot(grid, mu_h, 'o')\n",
        "_ = axs[2].axvline(grid[best], c='blue', linestyle='dashed')\n",
        "_ = axs[2].set_ylabel(\"MC expected squared loss for MoG\")\n",
        "_ = axs[2].set_xlabel(f\"Decision (best={grid[best]:.2f} optimum_expected_loss={mu_h[best]:.2f})\")\n",
        "\n",
        "# search with squared loss\n",
        "mu_h = [mc_expected_fn_h(h, samples, fn=rbf_utility) for h in grid]\n",
        "best = np.argmax(mu_h)\n",
        "_ = axs[3].plot(grid, mu_h, 'o')\n",
        "_ = axs[3].axvline(grid[best], c='blue', linestyle='dashed')\n",
        "_ = axs[3].set_ylabel(\"MC expected rbf utility for MoG\")\n",
        "_ = axs[3].set_xlabel(f\"Decision (best={grid[best]:.2f} optimum_expected_loss={mu_h[best]:.2f})\")\n",
        "\n",
        "\n",
        "fig.tight_layout(h_pad=2, w_pad=2)\n",
        "_ = fig.legend()"
      ],
      "metadata": {
        "id": "d3T5n7E-cqFy"
      },
      "execution_count": null,
      "outputs": []
    },
    {
      "cell_type": "markdown",
      "source": [
        "# Conclusions\n",
        "\n",
        "The absolute value loss is *mode seeking*, that is, it prefers to choose the mode of the distribution.\n",
        "\n",
        "The squared loss is *mean seeking*, it is biased towards the center of mass.\n",
        "\n",
        "The rbf utility is *density seeking*, it avoids regions of low density. Note that while abs and rbf end up choosing similar values their surfaces are completely differently, showing that rbs is averse to low density regions."
      ],
      "metadata": {
        "id": "bbPANdlk8Pcb"
      }
    },
    {
      "cell_type": "markdown",
      "source": [
        "# Exercise\n",
        "\n",
        "This is the solution to problem 2 in the list for week 3."
      ],
      "metadata": {
        "id": "3TDHspJ8ekxR"
      }
    },
    {
      "cell_type": "markdown",
      "source": [
        "This is the Gamma we are using:"
      ],
      "metadata": {
        "id": "6wEjwh_c_8Hf"
      }
    },
    {
      "cell_type": "code",
      "source": [
        "_ = plt.hist(np.random.gamma(4., 1./2, size=1000), bins='auto') \n",
        "_ = plt.xlabel('1000 samples from Gamma(shape=4, rate=2)')"
      ],
      "metadata": {
        "id": "VkaBfi9Pfbun"
      },
      "execution_count": null,
      "outputs": []
    },
    {
      "cell_type": "markdown",
      "source": [
        "And these are the samples provided in the exercise (do not change the seed):"
      ],
      "metadata": {
        "id": "VlrnxqDC_3c7"
      }
    },
    {
      "cell_type": "code",
      "source": [
        "rng = np.random.RandomState(42)\n",
        "ex_samples = rng.gamma(4., 1./2, size=10)"
      ],
      "metadata": {
        "id": "ANGsXOmA0mZs"
      },
      "execution_count": null,
      "outputs": []
    },
    {
      "cell_type": "code",
      "source": [
        "from tabulate import tabulate"
      ],
      "metadata": {
        "id": "PbOMzLFy0t6S"
      },
      "execution_count": null,
      "outputs": []
    },
    {
      "cell_type": "code",
      "source": [
        "print(tabulate([[f\"{y:.2f}\" for y in ex_samples]], headers=[f'y[{i+1}]'for i in range(10)]))"
      ],
      "metadata": {
        "id": "hxMxiefN0vuL"
      },
      "execution_count": null,
      "outputs": []
    },
    {
      "cell_type": "markdown",
      "source": [
        "This is the grid we use:"
      ],
      "metadata": {
        "id": "kee-RYQrAA70"
      }
    },
    {
      "cell_type": "code",
      "source": [
        "ex_grid = [1, 2, 3, 4]"
      ],
      "metadata": {
        "id": "V70Sr7xZ0xNi"
      },
      "execution_count": null,
      "outputs": []
    },
    {
      "cell_type": "markdown",
      "source": [
        "And here we report the expected losses for `abs_loss`"
      ],
      "metadata": {
        "id": "adVWZ0EBAC5C"
      }
    },
    {
      "cell_type": "code",
      "source": [
        "print(tabulate([[f\"{mc_expected_fn_h(h, ex_samples, fn=abs_loss):.2f}\" for h in ex_grid]], headers=[f\"h={h}\" for h in ex_grid]))"
      ],
      "metadata": {
        "id": "iNzCiA3f1IZH"
      },
      "execution_count": null,
      "outputs": []
    },
    {
      "cell_type": "markdown",
      "source": [
        "And expected utilities for `rbf_utility`"
      ],
      "metadata": {
        "id": "XtNyDKWyAI4J"
      }
    },
    {
      "cell_type": "code",
      "source": [
        "print(tabulate([[f\"{mc_expected_fn_h(h, ex_samples, fn=rbf_utility):.2f}\" for h in ex_grid]], headers=[f\"h={h}\" for h in ex_grid]))"
      ],
      "metadata": {
        "id": "RdiRy74H1T2s"
      },
      "execution_count": null,
      "outputs": []
    },
    {
      "cell_type": "code",
      "source": [
        ""
      ],
      "metadata": {
        "id": "q8_E9MDl-kT7"
      },
      "execution_count": null,
      "outputs": []
    }
  ]
}