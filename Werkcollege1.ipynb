{
 "cells": [
  {
   "cell_type": "markdown",
   "metadata": {
    "colab_type": "text",
    "id": "view-in-github"
   },
   "source": [
    "<a href=\"https://colab.research.google.com/github/probabll/ntmi-tutorials/blob/main/Werkcollege1.ipynb\" target=\"_parent\"><img src=\"https://colab.research.google.com/assets/colab-badge.svg\" alt=\"Open In Colab\"/></a>"
   ]
  },
  {
   "cell_type": "markdown",
   "metadata": {
    "id": "5_rEDxdB4m4X"
   },
   "source": [
    "In this notebook we practice identifying and estimating parameters for statistical models of linguistic data."
   ]
  },
  {
   "cell_type": "code",
   "execution_count": null,
   "metadata": {
    "id": "CXSUHL98yNvK"
   },
   "outputs": [],
   "source": [
    "!pip install nltk"
   ]
  },
  {
   "cell_type": "code",
   "execution_count": null,
   "metadata": {
    "id": "JZhQ6JkByOh4"
   },
   "outputs": [],
   "source": [
    "import nltk"
   ]
  },
  {
   "cell_type": "markdown",
   "metadata": {
    "id": "vxxZoSKH4mxP"
   },
   "source": [
    "The NLTK gives us access to the [WordNet](https://www.nltk.org/howto/wordnet.html), a resource containing rich information about the lexicon of various languages."
   ]
  },
  {
   "cell_type": "code",
   "execution_count": null,
   "metadata": {
    "id": "Ja3dE0Qb4yLh"
   },
   "outputs": [],
   "source": [
    "nltk.download('wordnet')\n",
    "nltk.download('omw')"
   ]
  },
  {
   "cell_type": "code",
   "execution_count": null,
   "metadata": {
    "id": "pGYpzsz2yRhE"
   },
   "outputs": [],
   "source": [
    "from nltk.corpus import wordnet as wn"
   ]
  },
  {
   "cell_type": "code",
   "execution_count": null,
   "metadata": {
    "id": "z9jBtqCRzJPb"
   },
   "outputs": [],
   "source": [
    "import numpy as np\n",
    "import scipy.stats as st\n",
    "import matplotlib.pyplot as plt"
   ]
  },
  {
   "cell_type": "markdown",
   "metadata": {
    "id": "uIoIT1XXFc3m"
   },
   "source": [
    "# Data"
   ]
  },
  {
   "cell_type": "markdown",
   "metadata": {
    "id": "q_N4oK3z4793"
   },
   "source": [
    "For example, the WordNet has a repository of English lemmas, and these lemmas are categorised into parts-of-speech (syntactic function) such as nouns (n) or verbs (v)."
   ]
  },
  {
   "cell_type": "code",
   "execution_count": null,
   "metadata": {
    "id": "NL-SHpEEyXIt"
   },
   "outputs": [],
   "source": [
    "sum(1 for _ in wn.all_lemma_names()), sum(1 for _ in wn.all_lemma_names('n')), sum(1 for _ in wn.all_lemma_names('v'))"
   ]
  },
  {
   "cell_type": "markdown",
   "metadata": {
    "id": "JHm2NIMN554M"
   },
   "source": [
    "Let's check some nouns:"
   ]
  },
  {
   "cell_type": "code",
   "execution_count": null,
   "metadata": {
    "id": "uDYcVGN85I4r"
   },
   "outputs": [],
   "source": [
    "for lemma in list(wn.all_lemma_names('n'))[50:60]:\n",
    "    print(lemma)"
   ]
  },
  {
   "cell_type": "markdown",
   "metadata": {
    "id": "U3AsyK0457Rj"
   },
   "source": [
    "And some verbs:"
   ]
  },
  {
   "cell_type": "code",
   "execution_count": null,
   "metadata": {
    "id": "PkiZH6In52pI"
   },
   "outputs": [],
   "source": [
    "for lemma in list(wn.all_lemma_names('v'))[50:60]:\n",
    "    print(lemma)"
   ]
  },
  {
   "cell_type": "markdown",
   "metadata": {
    "id": "iMkwVENN58he"
   },
   "source": [
    "A few other languages are also part of the resource:"
   ]
  },
  {
   "cell_type": "code",
   "execution_count": null,
   "metadata": {
    "id": "w_gr5DlB587u"
   },
   "outputs": [],
   "source": [
    "for lemma in list(wn.all_lemma_names('v', lang='nld'))[50:60]:\n",
    "    print(lemma)"
   ]
  },
  {
   "cell_type": "markdown",
   "metadata": {
    "id": "2jK5dl_26ZDX"
   },
   "source": [
    "Let's analyse the English data:"
   ]
  },
  {
   "cell_type": "code",
   "execution_count": null,
   "metadata": {
    "id": "gVGW0v7QzVmL"
   },
   "outputs": [],
   "source": [
    "nouns = [lemma for lemma in wn.all_lemma_names('n')]\n",
    "verbs = [lemma for lemma in wn.all_lemma_names('v')]"
   ]
  },
  {
   "cell_type": "code",
   "execution_count": null,
   "metadata": {
    "id": "-MyLoITO2lAz"
   },
   "outputs": [],
   "source": [
    "num_synsets_nouns = np.array([len(wn.synsets(lemma)) for lemma in nouns])\n",
    "num_synsets_verbs = np.array([len(wn.synsets(lemma)) for lemma in verbs])"
   ]
  },
  {
   "cell_type": "code",
   "execution_count": null,
   "metadata": {
    "id": "3S76Dzamy5JJ"
   },
   "outputs": [],
   "source": [
    "fig, ax = plt.subplots(1, 2, sharex=False, sharey=False, figsize=(8, 4))\n",
    "_ = ax[0].hist(num_synsets_nouns, bins='auto')\n",
    "_ = ax[0].set_xlabel('Number of senses for nouns')\n",
    "_ = ax[1].hist(num_synsets_verbs, bins='auto')\n",
    "_ = ax[1].set_xlabel('Number of senses for verbs')"
   ]
  },
  {
   "cell_type": "code",
   "execution_count": null,
   "metadata": {
    "id": "642pxuCZ0Q1T"
   },
   "outputs": [],
   "source": [
    "st.describe(num_synsets_nouns)"
   ]
  },
  {
   "cell_type": "code",
   "execution_count": null,
   "metadata": {
    "id": "YugQdewj3H_N"
   },
   "outputs": [],
   "source": [
    "st.describe(num_synsets_verbs)"
   ]
  },
  {
   "cell_type": "markdown",
   "metadata": {
    "id": "2fBIUuwEFT2i"
   },
   "source": [
    "# Empirical investigation and solution"
   ]
  },
  {
   "cell_type": "markdown",
   "metadata": {
    "id": "oZNiZulp6eoo"
   },
   "source": [
    "The number of senses decays fairly quickly. Nouns in particular do not seem as polysemous as verbs in English. The distribution for nouns is very concentrated at 1. The distribution for verbs is smoother.\n",
    "\n",
    "The number of observations in each bin decreases rather fast with increase in number of senses. Perhaps exponentially fast?"
   ]
  },
  {
   "cell_type": "code",
   "execution_count": null,
   "metadata": {
    "id": "NyCrjlox62Op"
   },
   "outputs": [],
   "source": [
    "fig, ax = plt.subplots(1, 2, sharex=False, sharey=False, figsize=(8, 4))\n",
    "_ = ax[0].hist(num_synsets_nouns, bins='auto', log=True)\n",
    "_ = ax[0].set_xlabel('Number of senses for nouns')\n",
    "_ = ax[1].hist(num_synsets_verbs, bins='auto', log=True)\n",
    "_ = ax[1].set_xlabel('Number of senses for verbs')"
   ]
  },
  {
   "cell_type": "markdown",
   "metadata": {
    "id": "waxz06Yp7KMT"
   },
   "source": [
    "Plotting the y-axis in log scale helps us see that an exponential decay is plausible. \n",
    "\n",
    "Though we also see that nouns still concentrate badly at 1."
   ]
  },
  {
   "cell_type": "code",
   "execution_count": null,
   "metadata": {
    "id": "-1N6GyZzChoB"
   },
   "outputs": [],
   "source": [
    "fig, ax = plt.subplots(1, 2, sharex=False, sharey=False, figsize=(8, 4))\n",
    "_ = ax[0].hist(np.log(num_synsets_nouns), bins='auto', log=True)\n",
    "_ = ax[0].set_xlabel('Number of senses for nouns')\n",
    "_ = ax[1].hist(np.log(num_synsets_verbs), bins='auto', log=True)\n",
    "_ = ax[1].set_xlabel('Number of senses for verbs')"
   ]
  },
  {
   "cell_type": "markdown",
   "metadata": {
    "id": "DrWeO-AVCnGs"
   },
   "source": [
    "A log-log plot shows the same trend."
   ]
  },
  {
   "cell_type": "markdown",
   "metadata": {
    "id": "dvbQHv9A7vUT"
   },
   "source": [
    "To capture the behaviour of the data in terms of \"number of senses\" in a statistical law, we need to look for a law that\n",
    "\n",
    "1. supports integers starting from 1\n",
    "2. the pmf decays (roughly) exponentially quickly\n",
    "3. the variance is not too high\n",
    "\n",
    "We can contrast properties of known laws against these objectives.\n",
    "\n",
    "The Binomial distribution does not seem appropriate: its generative story involves a known number of fixed draws, which we don't have here.\n",
    "\n",
    "The Geometric, the Poisson, and the Zipf distributions are possibly appropriate in terms of goal number 1. \n",
    "\n",
    "If we look carefuly, it looks like the mode of the data samples is always at 1, namely, the majority of nouns/verbs have a single sense. The Poisson distribution seems less adequate now. The only Poisson with a mode at 1 is Poisson(1), and if we tried to pick another Poisson (for example, in an attempt to find one with mean and variance more similar to the data, we would have to give up on matching the observed mode). \n",
    "\n",
    "The Geometric and the Zipf remain candidates for both distributions have their modes fixed at 1, for any choice of parameter. Both have pmfs that decay quickly, (roughly) exponentially quickly, so the final decision will have to depend on other properties."
   ]
  },
  {
   "cell_type": "markdown",
   "metadata": {
    "id": "ulXP76E_-wwv"
   },
   "source": [
    "One thing to know about the Zipf law is that it has extremely [heavy tails](https://en.wikipedia.org/wiki/Heavy-tailed_distribution). Draws from Zipf will often deviate drammatically far from 1, even though 1 will remain the most frequent outcome.\n",
    "\n",
    "Let's enumerate a few Zipf distributions, sample from them, and describe some properties of the samples:"
   ]
  },
  {
   "cell_type": "code",
   "execution_count": null,
   "metadata": {
    "id": "vZS6XBeo9ej5"
   },
   "outputs": [],
   "source": [
    "for power in np.linspace(1.001, 1.5, 10):\n",
    "    x_ = st.zipf(power).rvs(size=10000)\n",
    "    print(f\"1st trial with Zipf({power:.4f})\", st.mode(x_), st.describe(x_))  \n",
    "    x_ = st.zipf(power).rvs(size=10000)\n",
    "    print(f\"2nd trial with Zipf({power:.4f})\", st.mode(x_), st.describe(x_))"
   ]
  },
  {
   "cell_type": "markdown",
   "metadata": {
    "id": "k-QhWFmZAO_M"
   },
   "source": [
    "Look the range of samples we get (property `minmax` of the describe result), those are clearly inadequate for the data we are trying to model.\n",
    "\n",
    "So, we have enough to continue with the Geometric as our first plausible attempt."
   ]
  },
  {
   "cell_type": "markdown",
   "metadata": {
    "id": "mnaZsaiGAZw_"
   },
   "source": [
    "We can find the [Geometric MLE solution on Wikipedia](https://en.wikipedia.org/wiki/Geometric_distribution) and note that by default the scipy Geometric is the version with support $\\{1, 2, \\ldots \\}$ (not $\\{0, 1, \\ldots\\}$)."
   ]
  },
  {
   "cell_type": "code",
   "execution_count": null,
   "metadata": {
    "id": "vjcwvt2i3KHR"
   },
   "outputs": [],
   "source": [
    "def mle_geometric(x):\n",
    "    prob = 1 / np.mean(x)  # the scipy Geometric has support {1, ...} not {0, ...}\n",
    "    return st.geom(prob)"
   ]
  },
  {
   "cell_type": "code",
   "execution_count": null,
   "metadata": {
    "id": "qz4qc6nSzkzy"
   },
   "outputs": [],
   "source": [
    "geom_n = mle_geometric(num_synsets_nouns)\n",
    "geom_n.args"
   ]
  },
  {
   "cell_type": "code",
   "execution_count": null,
   "metadata": {
    "id": "3Pv6qw9B3hIA"
   },
   "outputs": [],
   "source": [
    "geom_v = mle_geometric(num_synsets_verbs)\n",
    "geom_v.args"
   ]
  },
  {
   "cell_type": "code",
   "execution_count": null,
   "metadata": {
    "id": "xSwdzDzezu6k"
   },
   "outputs": [],
   "source": [
    "n_ = geom_n.rvs(size=num_synsets_nouns.size)\n",
    "v_ = geom_v.rvs(size=num_synsets_verbs.size)"
   ]
  },
  {
   "cell_type": "markdown",
   "metadata": {
    "id": "lhmOTVfM3xqY"
   },
   "source": [
    "Clearly, we can capture the mean, after all the geometric parameter is directly estimated from the sample mean:"
   ]
  },
  {
   "cell_type": "code",
   "execution_count": null,
   "metadata": {
    "id": "m_MjdJL80iob"
   },
   "outputs": [],
   "source": [
    "st.describe(n_)"
   ]
  },
  {
   "cell_type": "code",
   "execution_count": null,
   "metadata": {
    "id": "gJ89tl0T3vvC"
   },
   "outputs": [],
   "source": [
    "st.describe(v_)"
   ]
  },
  {
   "cell_type": "code",
   "execution_count": null,
   "metadata": {
    "id": "_KiMed3y09wE"
   },
   "outputs": [],
   "source": [
    "fig, ax = plt.subplots(2, 2, sharex='col', sharey='col', figsize=(8, 4))\n",
    "_ = ax[0, 0].hist(num_synsets_nouns, bins='auto')\n",
    "_ = ax[0, 0].set_xlabel('Number of senses for nouns')\n",
    "_ = ax[0, 1].hist(num_synsets_verbs, bins='auto')\n",
    "_ = ax[0, 1].set_xlabel('Number of senses for verbs')\n",
    "\n",
    "_ = ax[1, 0].hist(n_, bins='auto')\n",
    "_ = ax[1, 0].set_xlabel('Geometric for nouns')\n",
    "_ = ax[1, 1].hist(v_, bins='auto')\n",
    "_ = ax[1, 1].set_xlabel('Geometric for verbs')"
   ]
  },
  {
   "cell_type": "markdown",
   "metadata": {
    "id": "x8mYVt7FAziJ"
   },
   "source": [
    "It looks like the Geometric assumption works better for verbs than for nouns.\n",
    "\n",
    "At this point in the course, we do not know enough to prescribe a model capable of a better fit for the nouns, but we will get there."
   ]
  },
  {
   "cell_type": "code",
   "execution_count": null,
   "metadata": {
    "id": "_iBFlfIXA99Z"
   },
   "outputs": [],
   "source": []
  }
 ],
 "metadata": {
  "colab": {
   "authorship_tag": "ABX9TyMEZOaOBF/7ed1fqnRzTIdQ",
   "collapsed_sections": [],
   "include_colab_link": true,
   "name": "Werkcollege1",
   "provenance": []
  },
  "kernelspec": {
   "display_name": "Python 3 (ipykernel)",
   "language": "python",
   "name": "python3"
  },
  "language_info": {
   "codemirror_mode": {
    "name": "ipython",
    "version": 3
   },
   "file_extension": ".py",
   "mimetype": "text/x-python",
   "name": "python",
   "nbconvert_exporter": "python",
   "pygments_lexer": "ipython3",
   "version": "3.9.15"
  }
 },
 "nbformat": 4,
 "nbformat_minor": 1
}
